{
 "cells": [
  {
   "cell_type": "code",
   "execution_count": 1,
   "metadata": {},
   "outputs": [],
   "source": [
    "from math import pi, pow, sqrt\n",
    "import numpy as np"
   ]
  },
  {
   "cell_type": "markdown",
   "metadata": {},
   "source": [
    " Se tiene la siguiente información de un empleado:\n",
    " >· código del empleado\n",
    "\n",
    " >· nombres\n",
    "\n",
    " >· número de horas trabajadas al mes\n",
    "\n",
    " >· valor hora trabajada\n",
    " \n",
    " >· porcentaje de retención en la fuente\n",
    "\n",
    "Haga un algoritmo que muestre: código, nombres, salario bruto y salario neto. "
   ]
  },
  {
   "cell_type": "code",
   "execution_count": null,
   "metadata": {},
   "outputs": [
    {
     "name": "stdout",
     "output_type": "stream",
     "text": [
      "El código del empleado es: 1\n",
      "El nombre del empleado es: Juan\n",
      "El salario bruto es: $ 4000\n",
      "El salario neto es: $ 3600.0\n"
     ]
    }
   ],
   "source": [
    "def mostrar_datos(cod, nom, htm, ht, rf):\n",
    "  sb = htm * ht\n",
    "  sn = sb - (sb * rf)\n",
    "  print(f\"El código del empleado es: {cod}\")\n",
    "  print(f\"El nombre del empleado es: {nom}\")\n",
    "  print(f\"El salario bruto es: $ {sb}\")\n",
    "  print(f\"El salario neto es: $ {sn}\")\n",
    "  \n",
    "mostrar_datos(1, \"Juan\", 100, 40, 0.1)"
   ]
  },
  {
   "cell_type": "markdown",
   "metadata": {},
   "source": [
    "### Dado el valor del lado en un triángulo equilátero, haga un algoritmo que obtenga el perímetro, el valor de la altura y el área del triángulo. "
   ]
  },
  {
   "cell_type": "code",
   "execution_count": null,
   "metadata": {},
   "outputs": [
    {
     "name": "stdout",
     "output_type": "stream",
     "text": [
      "La altura es: 6.928203230275509 cm\n",
      "El perímetro es: 24 cm\n",
      "El área es: 27.712812921102035 cm^2\n"
     ]
    }
   ],
   "source": [
    "def informacion_triangulo(lado):\n",
    "  altura = (sqrt(3) / 2) * lado\n",
    "  perimetro = lado * 3\n",
    "  area = (lado * altura) / 2\n",
    "  print(f\"La altura es: {altura} cm\")\n",
    "  print(f\"El perímetro es: {perimetro} cm\")\n",
    "  print(f\"El área es: {area} cm^2\")\n",
    "  \n",
    "informacion_triangulo(8)"
   ]
  },
  {
   "cell_type": "markdown",
   "metadata": {},
   "source": [
    "### Hacer un algoritmo que, dados dos valores numéricos A y B, escriba un mensaje diciendo si A es mayor, menor o igual a B. "
   ]
  },
  {
   "cell_type": "code",
   "execution_count": null,
   "metadata": {},
   "outputs": [
    {
     "name": "stdout",
     "output_type": "stream",
     "text": [
      "7 es mayor que 5\n"
     ]
    }
   ],
   "source": [
    "def mayor_menor(a,b):\n",
    "  if a > b:\n",
    "    print(f\"{a} es mayor que {b}\")\n",
    "  elif a < b:\n",
    "    print(f\"{a} es menor que {b}\")\n",
    "  else:\n",
    "    print(f\"{a} es igual a {b}\")\n",
    "    \n",
    "mayor_menor(7,5)"
   ]
  },
  {
   "cell_type": "markdown",
   "metadata": {},
   "source": [
    "Cierta universidad para liquidar el pago de matrícula de un estudiante le exige los\n",
    "siguientes datos:\n",
    "\n",
    ">• Número de inscripción\n",
    "\n",
    ">• Nombres\n",
    "\n",
    ">• Patrimonio.\n",
    "\n",
    ">• Estrato social.\n",
    "\n",
    "La universidad cobra un valor constante para cada estudiante de $50.000. Si el patrimonio\n",
    "es mayor que $2´000.000 y el estrato superior a 3, se le incrementa un porcentaje del 3%\n",
    "sobre el patrimonio. Hacer un algoritmo que muestre:\n",
    "\n",
    ">• Número de inscripción.\n",
    "\n",
    ">• Nombres.\n",
    "\n",
    ">• Pago de matrícula."
   ]
  },
  {
   "cell_type": "code",
   "execution_count": null,
   "metadata": {},
   "outputs": [
    {
     "name": "stdout",
     "output_type": "stream",
     "text": [
      "El número de matrícula es: 1\n",
      "El nombre del estudiante es: David\n",
      "El precio de la matrícula que debe pagar el estudiante es: $ 140000.0\n"
     ]
    }
   ],
   "source": [
    "def precio_matricula(num, nom, pat, estrato):\n",
    "  precio_matricula = 50000\n",
    "  if pat > 2000000 and estrato > 3:\n",
    "    precio_matricula = precio_matricula + 0.03*pat\n",
    "  print(f\"El número de matrícula es: {num}\")\n",
    "  print(f\"El nombre del estudiante es: {nom}\")\n",
    "  print(f\"El precio de la matrícula que debe pagar el estudiante es: $ {precio_matricula}\")\n",
    "  \n",
    "precio_matricula(1,\"David\", 3000000, 4)"
   ]
  },
  {
   "cell_type": "markdown",
   "metadata": {},
   "source": [
    "### Elaborar un algoritmo que entre el nombre de un empleado, su salario básico por hora y el número de horas trabajadas en el mes; escriba su nombre y salario mensual si éste es mayor de $450.000, de lo contrario escriba sólo el nombre. "
   ]
  },
  {
   "cell_type": "code",
   "execution_count": null,
   "metadata": {},
   "outputs": [
    {
     "name": "stdout",
     "output_type": "stream",
     "text": [
      "El salario de Daniel es: 2500000.0\n"
     ]
    }
   ],
   "source": [
    "nombre = input(\"Ingrese su nombre: \")\n",
    "precio_hora = float(input(\"Ingrese la ganancia por hora: \"))\n",
    "horas = float(input(\"Ingrese las horas trabajadas: \"))\n",
    "\n",
    "salario_mes = precio_hora * horas\n",
    "\n",
    "if salario_mes > 450000:\n",
    "  print(f\"El salario de {nombre} es: {salario_mes}\")\n",
    "else:\n",
    "  print(f\"El trabajador se llama {nombre}\")"
   ]
  },
  {
   "cell_type": "markdown",
   "metadata": {},
   "source": [
    "### Dados los valores A, B y C que son los parámetros de una ecuación de segundo grado, elaborar un algoritmo para hallar las posibles soluciones de dicha ecuación. "
   ]
  },
  {
   "cell_type": "code",
   "execution_count": null,
   "metadata": {},
   "outputs": [
    {
     "name": "stdout",
     "output_type": "stream",
     "text": [
      "Las soluciones son: -1.0 y -2.0\n"
     ]
    }
   ],
   "source": [
    "def solucion_ecn_segundo_grado(a,b,c):\n",
    "  discriminante = b**2 - 4*a*c\n",
    "  if discriminante > 0:\n",
    "    x1 = (-b + sqrt(discriminante)) / (2*a)\n",
    "    x2 = (-b - sqrt(discriminante)) / (2*a)\n",
    "    print(f\"Las soluciones son: {x1} y {x2}\")\n",
    "    \n",
    "  elif discriminante == 0:\n",
    "    x = -b / (2*a)\n",
    "    print(f\"La solución es: {x}\")\n",
    "    \n",
    "  else:\n",
    "    print(\"No tiene solución real\")\n",
    "    \n",
    "solucion_ecn_segundo_grado(1,3,2)"
   ]
  },
  {
   "cell_type": "markdown",
   "metadata": {},
   "source": [
    "Se requiere un programa que modele varias figuras geométricas: el círculo, el rectángulo, el cuadrado y el triángulo rectángulo.\n",
    "\n",
    "> El círculo tiene como atributo su radio en centímetros.\n",
    "\n",
    "> El rectángulo, su base y altura en centímetros.\n",
    "\n",
    "> El cuadrado, la longitud de sus lados en centímetros.\n",
    "\n",
    "> El triángulo, su base y altura en centímetros.\n",
    "\n",
    "Se requieren métodos para determinar el área y el perímetro de cada figura geométrica. Además, para el triángulo rectángulo se requiere:\n",
    "\n",
    "> Un método que calcule la hipotenusa del rectángulo.\n",
    "\n",
    "> Un método para determinar qué tipo de triángulo es"
   ]
  },
  {
   "cell_type": "code",
   "execution_count": null,
   "metadata": {},
   "outputs": [],
   "source": [
    "class Circulo:\n",
    "  \n",
    "  def __init__(self, radio: float) -> None:\n",
    "    self.radio = radio\n",
    "  \n",
    "  def calcular_area(self) -> float:\n",
    "    return pi*pow(self.radio,2)\n",
    "    \n",
    "  def calcular_perimetro(self) -> float:\n",
    "    return 2*pi*self.radio\n",
    "\n",
    "class Cuadrado:\n",
    "  \n",
    "  def __init__(self, lado: float) -> None:\n",
    "    self.lado = lado\n",
    "    \n",
    "  def calcular_area(self) -> float:\n",
    "    return self.lado * self.lado\n",
    "    \n",
    "  def calcular_perimetro(self) -> float:\n",
    "    return 4*self.lado\n",
    "  \n",
    "class Rectangulo:\n",
    "  \n",
    "  def __init__(self, base: float, altura: float) -> None:\n",
    "    self.base = base\n",
    "    self.altura = altura\n",
    "    \n",
    "  def calcular_area(self) -> float:\n",
    "    return self.base * self.altura\n",
    "    \n",
    "  def calcular_perimetro(self) -> float:\n",
    "    return 2*self.base + 2*self.altura\n",
    "\n",
    "class Triangulo:\n",
    "  \n",
    "  def __init__(self, base: float, altura: float) -> None:\n",
    "    self.base = base\n",
    "    self.altura = altura\n",
    "    \n",
    "  def calcular_area(self) -> float:\n",
    "    return (self.base*self.altura)/2\n",
    "    \n",
    "  def calcular_hipotenusa(self) -> float:\n",
    "    return sqrt(pow(self.base,2) + pow(self.altura,2))\n",
    "    \n",
    "  def calcular_perimetro(self) -> float:\n",
    "    return self.base + self.altura + self.calcular_hipotenusa()\n",
    "    \n",
    "  def tipo_triangulo(self) -> str:\n",
    "    if (self.altura == self.base) and (self.base == self.calcular_hipotenusa()) and (self.altura == self.calcular_hipotenusa()):\n",
    "      return 'El triangulo es equilatero'\n",
    "    \n",
    "    elif (self.altura != self.base) and (self.base != self.calcular_hipotenusa()) and (self.altura != self.calcular_hipotenusa()):\n",
    "      return 'El triangulo es escaleno'\n",
    "    \n",
    "    else: \n",
    "      return 'El triangulo es isoceles'"
   ]
  },
  {
   "cell_type": "code",
   "execution_count": null,
   "metadata": {},
   "outputs": [
    {
     "name": "stdout",
     "output_type": "stream",
     "text": [
      "El area del circulo es: 28.274333882308138 cm^2\n",
      "El perimetro del circulo es: 18.84955592153876 cm\n",
      "\n",
      "\n",
      "El area del rectangulo es: 8.0 cm^2\n",
      "El perimetro del rectangulo es: 12.0 cm\n",
      "\n",
      "\n",
      "El area del cuadrado es: 9.0 cm^2\n",
      "El perimetro del cuadrado es: 12.0 cm\n",
      "\n",
      "\n",
      "El area del triangulo es: 6.0 cm\n",
      "El perimetro del triangulo es: 12.0 cm\n",
      "la hipotenusa del triagunlo es de 5.0 cm\n",
      "El triangulo es escaleno\n"
     ]
    }
   ],
   "source": [
    "a1 = float(input(\"Ingrese el radio del circulo en cm: \"))\n",
    "b1 = float(input(\"Ingrese el lado del cuadrado en cm: \"))\n",
    "c1 = float(input(\"Ingrese la base del rectangulo en cm: \"))\n",
    "d1 = float(input(\"Ingrese la altura del rectangulo en cm: \"))\n",
    "e1 = float(input(\"Ingrese la base del triangulo en cm: \"))\n",
    "f1 = float(input(\"Ingrese la altura del triangulo en cm \"))\n",
    "\n",
    "def main(a2,b2,c2,d2,e2,f2):\n",
    "  c = Circulo(a2)\n",
    "  print(f'El area del circulo es: {c.calcular_area()} cm^2')\n",
    "  print(f'El perimetro del circulo es: {c.calcular_perimetro()} cm')\n",
    "  print('\\n')\n",
    "\n",
    "  r = Rectangulo(b2,c2)\n",
    "  print(f'El area del rectangulo es: {r.calcular_area()} cm^2')\n",
    "  print(f'El perimetro del rectangulo es: {r.calcular_perimetro()} cm')\n",
    "  print('\\n')\n",
    "\n",
    "  cu = Cuadrado(d2)\n",
    "  print(f'El area del cuadrado es: {cu.calcular_area()} cm^2')\n",
    "  print(f'El perimetro del cuadrado es: {cu.calcular_perimetro()} cm')\n",
    "  print('\\n')\n",
    "\n",
    "  t = Triangulo(e2,f2)\n",
    "  print(f'El area del triangulo es: {t.calcular_area()} cm')\n",
    "  print(f'El perimetro del triangulo es: {t.calcular_perimetro()} cm')\n",
    "  print(f'la hipotenusa del triagunlo es de {t.calcular_hipotenusa()} cm')\n",
    "  print(f'{t.tipo_triangulo()}')\n",
    "  \n",
    "if __name__ == \"__main__\":\n",
    "  main(a1,b1,c1,d1,e1,f1)\n"
   ]
  }
 ],
 "metadata": {
  "kernelspec": {
   "display_name": "Python 3",
   "language": "python",
   "name": "python3"
  },
  "language_info": {
   "codemirror_mode": {
    "name": "ipython",
    "version": 3
   },
   "file_extension": ".py",
   "mimetype": "text/x-python",
   "name": "python",
   "nbconvert_exporter": "python",
   "pygments_lexer": "ipython3",
   "version": "3.12.2"
  }
 },
 "nbformat": 4,
 "nbformat_minor": 2
}
